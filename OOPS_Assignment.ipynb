{
  "nbformat": 4,
  "nbformat_minor": 0,
  "metadata": {
    "colab": {
      "provenance": []
    },
    "kernelspec": {
      "name": "python3",
      "display_name": "Python 3"
    },
    "language_info": {
      "name": "python"
    }
  },
  "cells": [
    {
      "cell_type": "markdown",
      "source": [
        "1. What is Object-Oriented Programming (OOP)?\n",
        "  - It is based on the concept of \"objects,\" which are instances of \"classes\" that encapsulate data and functions (methods) that operate on the data.\n",
        "\n",
        "2. What is a class in OOP?\n",
        " - Classes are blueprint/template for creating an object.\n",
        "\n",
        "3. What is an object in OOP?\n",
        " - An object is an instance of a class. It is a real-world entity that combines both data (attributes) and behavior (methods) that operate on that data.\n",
        "\n",
        "4. What is the difference between abstraction and encapsulation?\n",
        " - Concept of hiding complex implementation called abstraction\n",
        "    - abstraction can be achieved using abstract classes using import abc\n",
        "\n",
        " - Bundling of data and methods of a class is known as encapsulation.\n",
        "\n",
        "5. What are dunder methods in Python?\n",
        " - Dunder methods (short for \"double underscore methods\") are special methods in Python that have double underscores at the beginning and end of their names, like __init__, __str__, and __add__. These methods allow you to define how objects of a class behave with built-in operations and functions.\n",
        "\n",
        "6. Explain the concept of inheritance in OOP.\n",
        " -    Inheritance refers to a process of a child class receiving the properties of a parent class , In inheritance parent class will not have access of therir child class but the child class have all the access of a parent class\n",
        "\n",
        "7. What is polymorphism in OOP?\n",
        " - It enables a single function, method, or operator to work in different ways depending on the object or data type.\n",
        "\n",
        "8. How is encapsulation achieved in Python?\n",
        " - Encapsulation is one of the core principles of Object-Oriented Programming (OOP) that bundles data (attributes) and the methods (functions) that operate on that data into a single unit, called a class. It restricts direct access to some of the object’s internal data and prevents accidental modification.\n",
        "\n",
        "9. What is a constructor in Python ?\n",
        " - A constructor is a special method in Python that is automatically called when an object of a class is created. It initializes the object and sets the initial values for its attributes.\n",
        "\n",
        "10. What are class and static methods in Python ?\n",
        " - A class method is a method that operates on the class itself rather than on instances of the class. It has access to class-level data and can modify class attributes.\n",
        "\n",
        " - A static method is a method that belongs to a class but does not have access to the class or its instances. It behaves just like a regular function but resides inside a class.\n",
        "\n",
        "11. What is method overloading in Python?\n",
        " - Method Overloading is a feature that allows a class to have multiple methods with the same name but different numbers or types of parameters. but python does'nt support oerloading directly.\n",
        "\n",
        "12.  What is method overriding in OOP ?\n",
        " - Method Overriding is an OOP concept that allows a subclass to provide a specific implementation of a method that is already defined in its superclass.\n",
        "\n",
        "13. What is a property decorator in Python ?\n",
        " - The property decorator in Python is used to define a method that can be accessed like an attribute. It allows you to create getter, setter, and deleter methods to manage the attributes of a class in a clean and Pythonic way.\n",
        "\n",
        "14. Why is polymorphism important in OOP?\n",
        " - Polymorphism is one of the four fundamental principles of Object-Oriented Programming (OOP), alongside Encapsulation, Inheritance, and Abstraction. It allows objects of different classes to be treated as objects of a common superclass, enabling flexibility and scalability in the design of software systems.\n",
        "\n",
        "15. What is an abstract class in Python ?\n",
        " - An abstract class in Python is a class that cannot be instantiated directly. It serves as a blueprint for other classes, defining common methods and attributes that derived classes should implement.\n",
        "\n",
        "16. What are the advantages of OOP?\n",
        " - Encapsulation - Bundling data and methods that operate on the data within a single unit (class).\n",
        " - Abstraction - Hiding complex implementation details and exposing only the necessary functionality.\n",
        " - Inheritance - Allowing classes to inherit properties and methods from other classes\n",
        " - Polymorphism - Enabling objects of different classes to be treated uniformly through a common interface.\n",
        "\n",
        "17. What is the difference between a class variable and an instance variable\n",
        " 1. A class variable is a variable that is shared by all instances of a class. It is defined outside any instance methods and belongs to the class itself rather than any object\n",
        "   - Defined inside the class but outside the __init__ method.\n",
        "   - Shared across all instances of the class.\n",
        "   - Can be accessed using the class name or an object.\n",
        "\n",
        "\n",
        " 2. An instance variable is a variable that is specific to each instance of a class. It is defined inside the __init__ method and belongs to the object.\n",
        "\n",
        "    - Defined inside the __init__ method or any instance method.\n",
        "    - Each instance gets its own copy of instance variables.\n",
        "    - Can be accessed and modified using self.\n",
        "\n",
        "18. What is multiple inheritance in Python ?\n",
        " - Multiple inheritance is a feature in object-oriented programming where a class can inherit attributes and methods from more than one parent class.\n",
        "\n",
        "19. Explain the purpose of __str__and __repr__ methods in Python .\n",
        " - In Python, __str__() and __repr__() are dunder (double underscore) methods that provide string representations of objects. They define how an object is represented as a string and are used for different purposes.\n",
        "\n",
        "20.  What is the significance of the ‘super()’ function in Python\n",
        " - The super() function in Python is used to call a method from a parent class. It is often used in the context of inheritance to extend or modify the behavior of inherited methods.\n",
        "\n",
        "21. What is the significance of the __del__ method in Python ?\n",
        " - The __del__() method in Python is a special method known as a destructor. It is automatically called when an object is about to be destroyed or garbage collected, helping to perform cleanup actions like closing files, releasing resources, or freeing up memory.\n",
        "\n",
        "22. What is the difference between @staticmethod and @classmethod in Python?\n",
        " - A staticmethod is a method that belongs to a class but does not have access to the class or instance itself. It behaves like a regular function but is defined inside a class.\n",
        "\n",
        " - A classmethod is a method that belongs to a class and has access to the class itself. It takes the class as its first argument (cls) and can modify class-level variables or properties.\n",
        "\n",
        "23. How does polymorphism work in Python with inheritance ?\n",
        " - Polymorphism in Python refers to the ability of different classes to respond to the same method call in different ways. When combined with inheritance, polymorphism allows objects of different derived classes to be treated as objects of a common base class, enabling code reusability and flexibility.\n",
        "\n",
        "24. What is method chaining in Python OOP ?\n",
        " - Method Chaining is a technique in Python where multiple methods are called on the same object in a single statement by returning self (or another object) from each method.\n",
        "\n",
        "25. What is the purpose of the __call__ method in Python?\n",
        " - The __call__ method in Python is a dunder (double underscore) method that allows an instance of a class to be invoked as if it were a function.  \n",
        "\n",
        "  \n",
        "   \n",
        "\n",
        "\n",
        "  \n",
        "\n",
        "   \n",
        "\n",
        "     \n",
        "\n"
      ],
      "metadata": {
        "id": "VyVgtee7rA4_"
      }
    },
    {
      "cell_type": "code",
      "source": [
        "#1. Create a parent class Animal with a method speak() that prints a generic message. Create a child class Dog that overrides the speak() method to print \"Bark!\".\n",
        "# Parent class\n",
        "class Animal:\n",
        "    def speak(self):\n",
        "        print(\"The animal makes a sound.\")\n",
        "\n",
        "# Child class\n",
        "class Dog(Animal):\n",
        "    def speak(self):\n",
        "        print(\"Bark!\")\n",
        "\n",
        "\n",
        "generic_animal = Animal()\n",
        "dog = Dog()\n",
        "\n",
        "dog.speak()\n"
      ],
      "metadata": {
        "colab": {
          "base_uri": "https://localhost:8080/"
        },
        "id": "uw-o1zt50qBS",
        "outputId": "5168f950-fcd0-45d3-f395-365539ff57cc"
      },
      "execution_count": null,
      "outputs": [
        {
          "output_type": "stream",
          "name": "stdout",
          "text": [
            "Bark!\n"
          ]
        }
      ]
    },
    {
      "cell_type": "code",
      "source": [
        "# 2. Write a program to create an abstract class Shape with a method area(). Derive classes Circle and Rectangle from it and implement the area() method in both.\n",
        "from abc import ABC, abstractmethod\n",
        "import math\n",
        "\n",
        "# Abstract class\n",
        "class Shape(ABC):\n",
        "    @abstractmethod\n",
        "    def area(self):\n",
        "        \"\"\"Abstract method to calculate area\"\"\"\n",
        "        pass\n",
        "\n",
        "# Circle class derived from Shape\n",
        "class Circle(Shape):\n",
        "    def __init__(self, radius):\n",
        "        self.radius = radius\n",
        "\n",
        "    # Implementing area() for Circle\n",
        "    def area(self):\n",
        "        return math.pi * self.radius ** 2\n",
        "\n",
        "# Rectangle class derived from Shape\n",
        "class Rectangle(Shape):\n",
        "    def __init__(self, length, width):\n",
        "        self.length = length\n",
        "        self.width = width\n",
        "\n",
        "    # Implementing area() for Rectangle\n",
        "    def area(self):\n",
        "        return self.length * self.width\n",
        "\n",
        "# Create objects and calculate area\n",
        "circle = Circle(5)\n",
        "rectangle = Rectangle(4, 6)\n",
        "\n",
        "print(f\"Area of the circle: {circle.area():.2f}\")\n",
        "print(f\"Area of the rectangle: {rectangle.area():.2f}\")\n"
      ],
      "metadata": {
        "id": "NZsPBPcT2Gw-",
        "colab": {
          "base_uri": "https://localhost:8080/"
        },
        "outputId": "8e81a797-609f-43eb-976c-3fedb53bcc0d"
      },
      "execution_count": null,
      "outputs": [
        {
          "output_type": "stream",
          "name": "stdout",
          "text": [
            "Area of the circle: 78.54\n",
            "Area of the rectangle: 24.00\n"
          ]
        }
      ]
    },
    {
      "cell_type": "code",
      "source": [
        "# 3. Implement a multi-level inheritance scenario where a class Vehicle has an attribute type. Derive a class Car and further derive a class ElectricCar that adds a battery attribute\n",
        "# Base class\n",
        "class Vehicle:\n",
        "    def __init__(self, vehicle_type):\n",
        "        self.vehicle_type = vehicle_type\n",
        "\n",
        "    def display_type(self):\n",
        "        print(f\"Vehicle Type: {self.vehicle_type}\")\n",
        "\n",
        "# Derived class from Vehicle\n",
        "class Car(Vehicle):\n",
        "    def __init__(self, vehicle_type, brand, model):\n",
        "        super().__init__(vehicle_type)\n",
        "        self.brand = brand\n",
        "        self.model = model\n",
        "\n",
        "    def display_details(self):\n",
        "        print(f\"Brand: {self.brand}\")\n",
        "        print(f\"Model: {self.model}\")\n",
        "\n",
        "# Derived class from Car (multi-level inheritance)\n",
        "class ElectricCar(Car):\n",
        "    def __init__(self, vehicle_type, brand, model, battery_capacity):\n",
        "        super().__init__(vehicle_type, brand, model)\n",
        "        self.battery_capacity = battery_capacity\n",
        "\n",
        "    def display_battery(self):\n",
        "        print(f\"Battery Capacity: {self.battery_capacity} kWh\")\n",
        "\n",
        "# Create an object of ElectricCar\n",
        "tesla = ElectricCar(\"Electric\", \"Tesla\", \"Model 3\", 75)\n",
        "\n",
        "# Display information using different methods\n",
        "tesla.display_type()\n",
        "tesla.display_details()\n",
        "tesla.display_battery()\n",
        "\n"
      ],
      "metadata": {
        "id": "XSkhRFws45v4",
        "colab": {
          "base_uri": "https://localhost:8080/"
        },
        "outputId": "66b4228d-24da-427f-b2af-f2135bbfe433"
      },
      "execution_count": null,
      "outputs": [
        {
          "output_type": "stream",
          "name": "stdout",
          "text": [
            "Vehicle Type: Electric\n",
            "Brand: Tesla\n",
            "Model: Model 3\n",
            "Battery Capacity: 75 kWh\n"
          ]
        }
      ]
    },
    {
      "cell_type": "code",
      "source": [
        "# 4. Demonstrate polymorphism by creating a base class Bird with a method fly(). Create two derived classes Sparrow and Penguin that override the fly() method.\n",
        "# Base class\n",
        "class Bird:\n",
        "    def fly(self):\n",
        "        \"\"\"Base fly method\"\"\"\n",
        "        print(\"Birds can fly...\")\n",
        "\n",
        "# Derived class Sparrow\n",
        "class Sparrow(Bird):\n",
        "    def fly(self):\n",
        "        print(\"Sparrow flies high in the sky!\")\n",
        "\n",
        "# Derived class Penguin\n",
        "class Penguin(Bird):\n",
        "    def fly(self):\n",
        "        print(\"Penguins cannot fly but swim instead!\")\n",
        "\n",
        "# Function to demonstrate polymorphism\n",
        "def flying_test(bird):\n",
        "    bird.fly()\n",
        "\n",
        "# Create objects\n",
        "sparrow = Sparrow()\n",
        "penguin = Penguin()\n",
        "\n",
        "# Polymorphic behavior\n",
        "flying_test(sparrow)\n",
        "flying_test(penguin)\n",
        "\n",
        "\n"
      ],
      "metadata": {
        "colab": {
          "base_uri": "https://localhost:8080/"
        },
        "id": "bf4S1LSS6_zW",
        "outputId": "49675040-f59d-40bc-8e08-c30f301569c9"
      },
      "execution_count": null,
      "outputs": [
        {
          "output_type": "stream",
          "name": "stdout",
          "text": [
            "Sparrow flies high in the sky!\n",
            "Penguins cannot fly but swim instead!\n"
          ]
        }
      ]
    },
    {
      "cell_type": "code",
      "source": [
        "# 5. Write a program to demonstrate encapsulation by creating a class BankAccount with private attributes balance and methods to deposit, withdraw, and check balance\n",
        "class BankAccount:\n",
        "    def __init__(self, account_holder, balance=0):\n",
        "        self.account_holder = account_holder\n",
        "        self.__balance = balance  # Private attribute\n",
        "\n",
        "    # Method to deposit amount\n",
        "    def deposit(self, amount):\n",
        "        if amount > 0:\n",
        "            self.__balance += amount\n",
        "            print(f\"Deposited ₹{amount:.2f}. New balance: ₹{self.__balance:.2f}\")\n",
        "        else:\n",
        "            print(\"Invalid amount! Please enter a positive value.\")\n",
        "\n",
        "    # Method to withdraw amount\n",
        "    def withdraw(self, amount):\n",
        "        if amount > 0 and amount <= self.__balance:\n",
        "            self.__balance -= amount\n",
        "            print(f\"Withdrew ₹{amount:.2f}. New balance: ₹{self.__balance:.2f}\")\n",
        "        elif amount > self.__balance:\n",
        "            print(\"Insufficient balance!\")\n",
        "        else:\n",
        "            print(\"Invalid amount! Please enter a positive value.\")\n",
        "\n",
        "    # Method to check balance\n",
        "    def check_balance(self):\n",
        "        print(f\"Available balance for {self.account_holder}: ₹{self.__balance:.2f}\")\n",
        "\n",
        "# Create an object of BankAccount\n",
        "account = BankAccount(\"Ansh Kashyap\", 5000)\n",
        "\n",
        "# Accessing public and private methods\n",
        "account.check_balance()     # Check initial balance\n",
        "account.deposit(2000)       # Deposit ₹2000\n",
        "account.withdraw(1000)      # Withdraw ₹1000\n",
        "account.withdraw(7000)      # Attempt to withdraw beyond balance\n",
        "account.check_balance()     # Final balance check\n",
        "\n",
        "# Trying to access private attribute directly (will throw an error)\n",
        "# print(account.__balance)  # Uncommenting this will raise AttributeError\n"
      ],
      "metadata": {
        "colab": {
          "base_uri": "https://localhost:8080/"
        },
        "id": "dsTtzCso7010",
        "outputId": "edbc102d-ea58-4891-a924-12bdf671d6c6"
      },
      "execution_count": null,
      "outputs": [
        {
          "output_type": "stream",
          "name": "stdout",
          "text": [
            "Available balance for Ansh Kashyap: ₹5000.00\n",
            "Deposited ₹2000.00. New balance: ₹7000.00\n",
            "Withdrew ₹1000.00. New balance: ₹6000.00\n",
            "Insufficient balance!\n",
            "Available balance for Ansh Kashyap: ₹6000.00\n"
          ]
        }
      ]
    },
    {
      "cell_type": "code",
      "source": [
        "# 6. Demonstrate runtime polymorphism using a method play() in a base class Instrument. Derive classes Guitar and Piano that implement their own version of play().\n",
        "# Base class\n",
        "class Instrument:\n",
        "    def play(self):\n",
        "        \"\"\"Base play method\"\"\"\n",
        "        print(\"Playing an instrument...\")\n",
        "\n",
        "# Derived class Guitar\n",
        "class Guitar(Instrument):\n",
        "    def play(self):\n",
        "        print(\"Strumming the guitar with a melodious tune!\")\n",
        "\n",
        "# Derived class Piano\n",
        "class Piano(Instrument):\n",
        "    def play(self):\n",
        "        print(\"Playing beautiful notes on the piano!\")\n",
        "\n",
        "# Function to demonstrate polymorphism\n",
        "def play_instrument(instrument):\n",
        "    instrument.play()\n",
        "\n",
        "# Create objects\n",
        "guitar = Guitar()\n",
        "piano = Piano()\n",
        "\n",
        "# Polymorphic behavior\n",
        "play_instrument(guitar)  # Calls play() from Guitar\n",
        "play_instrument(piano)   # Calls play() from Piano\n",
        "\n"
      ],
      "metadata": {
        "colab": {
          "base_uri": "https://localhost:8080/"
        },
        "id": "7W6x-zvl8Etx",
        "outputId": "43482a18-f073-420d-a5db-603b5849097b"
      },
      "execution_count": null,
      "outputs": [
        {
          "output_type": "stream",
          "name": "stdout",
          "text": [
            "Strumming the guitar with a melodious tune!\n",
            "Playing beautiful notes on the piano!\n"
          ]
        }
      ]
    },
    {
      "cell_type": "code",
      "source": [
        "# 7. Create a class MathOperations with a class method add_numbers() to add two numbers and a static method subtract_numbers() to subtract two numbers.\n",
        "class MathOperations:\n",
        "    # Class method to add two numbers\n",
        "    @classmethod\n",
        "    def add_numbers(cls, a, b):\n",
        "        return a + b\n",
        "\n",
        "    # Static method to subtract two numbers\n",
        "    @staticmethod\n",
        "    def subtract_numbers(a, b):\n",
        "        return a - b\n",
        "\n",
        "# Using the class method to add numbers\n",
        "sum_result = MathOperations.add_numbers(10, 5)\n",
        "print(f\"Sum of 10 and 5 is: {sum_result}\")\n",
        "\n",
        "# Using the static method to subtract numbers\n",
        "sub_result = MathOperations.subtract_numbers(10, 5)\n",
        "print(f\"Difference between 10 and 5 is: {sub_result}\")\n",
        "\n",
        "\n",
        "\n",
        "\n"
      ],
      "metadata": {
        "colab": {
          "base_uri": "https://localhost:8080/"
        },
        "id": "VOUkYpDw8bLa",
        "outputId": "8b916a41-c450-4b4d-ff84-b7655bf142a5"
      },
      "execution_count": null,
      "outputs": [
        {
          "output_type": "stream",
          "name": "stdout",
          "text": [
            "Sum of 10 and 5 is: 15\n",
            "Difference between 10 and 5 is: 5\n"
          ]
        }
      ]
    },
    {
      "cell_type": "code",
      "source": [
        "# 8. Implement a class Person with a class method to count the total number of persons created.\n",
        "class Person:\n",
        "    # Class variable to count persons\n",
        "    total_persons = 0\n",
        "\n",
        "    def __init__(self, name, age):\n",
        "        self.name = name\n",
        "        self.age = age\n",
        "        Person.total_persons += 1\n",
        "\n",
        "    # Class method to get the count of total persons\n",
        "    @classmethod\n",
        "    def get_total_persons(cls):\n",
        "        return cls.total_persons\n",
        "\n",
        "# Create instances of Person\n",
        "person1 = Person(\"Ansh\", 19)\n",
        "person2 = Person(\"Ram\", 30)\n",
        "person3 = Person(\"Shyam\", 22)\n",
        "\n",
        "# Get the total number of persons created\n",
        "print(f\"Total number of persons created: {Person.get_total_persons()}\")\n",
        "\n"
      ],
      "metadata": {
        "colab": {
          "base_uri": "https://localhost:8080/"
        },
        "id": "cTljS2Ty8mHH",
        "outputId": "ca92e6da-5ca6-4844-d5f1-d6a2eab9bf6b"
      },
      "execution_count": null,
      "outputs": [
        {
          "output_type": "stream",
          "name": "stdout",
          "text": [
            "Total number of persons created: 3\n"
          ]
        }
      ]
    },
    {
      "cell_type": "code",
      "source": [
        "# 9. Write a class Fraction with attributes numerator and denominator. Override the str method to display the fraction as \"numerator/denominator\".\n",
        "class Fraction:\n",
        "    def __init__(self, numerator, denominator):\n",
        "        if denominator == 0:\n",
        "            raise ValueError(\"Denominator cannot be zero!\")\n",
        "        self.numerator = numerator\n",
        "        self.denominator = denominator\n",
        "\n",
        "    # Override __str__ method to display the fraction\n",
        "    def __str__(self):\n",
        "        return f\"{self.numerator}/{self.denominator}\"\n",
        "\n",
        "# Create Fraction objects\n",
        "fraction1 = Fraction(3, 4)\n",
        "fraction2 = Fraction(5, 8)\n",
        "\n",
        "# Print the fractions\n",
        "print(f\"Fraction 1: {fraction1}\")\n",
        "print(f\"Fraction 2: {fraction2}\")\n",
        "\n"
      ],
      "metadata": {
        "colab": {
          "base_uri": "https://localhost:8080/"
        },
        "id": "C2SeJze39Hx2",
        "outputId": "5f9b9ece-8dec-4336-f24f-992949b4c368"
      },
      "execution_count": null,
      "outputs": [
        {
          "output_type": "stream",
          "name": "stdout",
          "text": [
            "Fraction 1: 3/4\n",
            "Fraction 2: 5/8\n"
          ]
        }
      ]
    },
    {
      "cell_type": "code",
      "source": [
        "# 10. Demonstrate operator overloading by creating a class Vector and overriding the add method to add two vectors .\n",
        "class Vector:\n",
        "    def __init__(self, x, y):\n",
        "        self.x = x\n",
        "        self.y = y\n",
        "\n",
        "    # Overloading the + operator\n",
        "    def __add__(self, other):\n",
        "        if isinstance(other, Vector):\n",
        "            return Vector(self.x + other.x, self.y + other.y)\n",
        "        else:\n",
        "            raise TypeError(\"Operand must be of type Vector\")\n",
        "\n",
        "    # Overriding __str__ to display vector in a readable format\n",
        "    def __str__(self):\n",
        "        return f\"({self.x}, {self.y})\"\n",
        "\n",
        "# Create two Vector objects\n",
        "vector1 = Vector(3, 4)\n",
        "vector2 = Vector(1, 2)\n",
        "\n",
        "# Add two vectors using +\n",
        "result_vector = vector1 + vector2\n",
        "\n",
        "# Print the result\n",
        "print(f\"Vector 1: {vector1}\")\n",
        "print(f\"Vector 2: {vector2}\")\n",
        "print(f\"Sum of vectors: {result_vector}\")\n"
      ],
      "metadata": {
        "colab": {
          "base_uri": "https://localhost:8080/"
        },
        "id": "lqUBIFea9maL",
        "outputId": "cb629441-6719-41fa-df11-d32e017a6aa9"
      },
      "execution_count": null,
      "outputs": [
        {
          "output_type": "stream",
          "name": "stdout",
          "text": [
            "Vector 1: (3, 4)\n",
            "Vector 2: (1, 2)\n",
            "Sum of vectors: (4, 6)\n"
          ]
        }
      ]
    },
    {
      "cell_type": "code",
      "source": [
        "# 11. Create a class Person with attributes name and age. Add a method greet() that prints \"Hello, my name is {name} and I am {age} years old.\n",
        "class Person:\n",
        "    def __init__(self,name,age):\n",
        "      self.name = name\n",
        "      self.age = age\n",
        "\n",
        "    def greet(self):\n",
        "        print(f\"Hello, my name is {self.name} and I am {self.age} years old.\")\n",
        "\n",
        "p = Person(\"Ansh\", 19)\n",
        "p.greet()\n"
      ],
      "metadata": {
        "colab": {
          "base_uri": "https://localhost:8080/"
        },
        "id": "3I4n-tdN90cY",
        "outputId": "e3d379e6-1d8e-4b33-abb7-9d4c4a2e5a44"
      },
      "execution_count": null,
      "outputs": [
        {
          "output_type": "stream",
          "name": "stdout",
          "text": [
            "Hello, my name is Ansh and I am 19 years old.\n"
          ]
        }
      ]
    },
    {
      "cell_type": "code",
      "source": [
        "# 12. Implement a class Student with attributes name and grades. Create a method average_grade() to compute the average of the grades.\n",
        "\n",
        "class Student:\n",
        "    def __init__(self, name, grades):\n",
        "        self.name = name\n",
        "        self.grades = grades\n",
        "\n",
        "    # Method to calculate the average grade\n",
        "    def average_grade(self):\n",
        "        if len(self.grades) == 0:\n",
        "            return 0\n",
        "        return sum(self.grades) / len(self.grades)\n",
        "\n",
        "    # Method to display student details\n",
        "    def display_info(self):\n",
        "        print(f\"Student Name: {self.name}\")\n",
        "        print(f\"Average Grade: {self.average_grade():.2f}\")\n",
        "\n",
        "# Create Student objects\n",
        "student1 = Student(\"John\", [85, 90, 78, 92])\n",
        "student2 = Student(\"Alice\", [88, 76, 95, 89, 84])\n",
        "student3 = Student(\"Bob\", [])\n",
        "\n",
        "# Display student details\n",
        "student1.display_info()\n",
        "student2.display_info()\n",
        "student3.display_info()\n"
      ],
      "metadata": {
        "colab": {
          "base_uri": "https://localhost:8080/"
        },
        "id": "YaOri4He-UJG",
        "outputId": "33f63b17-b72d-4bab-9040-4205746fc056"
      },
      "execution_count": 40,
      "outputs": [
        {
          "output_type": "stream",
          "name": "stdout",
          "text": [
            "Student Name: John\n",
            "Average Grade: 86.25\n",
            "Student Name: Alice\n",
            "Average Grade: 86.40\n",
            "Student Name: Bob\n",
            "Average Grade: 0.00\n"
          ]
        }
      ]
    },
    {
      "cell_type": "code",
      "source": [
        "# 13. Create a class Rectangle with methods set_dimensions() to set the dimensions and area() to calculate the area.\n",
        "class Rectangle:\n",
        "    def __init__(self, length=0, width=0):\n",
        "        self.length = length\n",
        "        self.width = width\n",
        "\n",
        "    # Method to set the dimensions of the rectangle\n",
        "    def set_dimensions(self, length, width):\n",
        "        if length > 0 and width > 0:\n",
        "            self.length = length\n",
        "            self.width = width\n",
        "        else:\n",
        "            print(\"Length and width must be positive values!\")\n",
        "\n",
        "    # Method to calculate the area of the rectangle\n",
        "    def area(self):\n",
        "        return self.length * self.width\n",
        "\n",
        "    # Method to display rectangle details\n",
        "    def display_info(self):\n",
        "        print(f\"Length: {self.length}\")\n",
        "        print(f\"Width: {self.width}\")\n",
        "        print(f\"Area: {self.area():.2f}\")\n",
        "\n",
        "# Create a Rectangle object\n",
        "rect = Rectangle()\n",
        "\n",
        "# Set dimensions using set_dimensions() method\n",
        "rect.set_dimensions(5, 10)\n",
        "\n",
        "# Display rectangle details and area\n",
        "rect.display_info()\n",
        "\n",
        "# Update dimensions and display new area\n",
        "rect.set_dimensions(7, 3)\n",
        "rect.display_info()\n",
        "\n",
        "# Attempt to set invalid dimensions\n",
        "rect.set_dimensions(-4, 8)  # This will display an error message\n"
      ],
      "metadata": {
        "id": "3MlUmmRA_P6H",
        "colab": {
          "base_uri": "https://localhost:8080/"
        },
        "outputId": "97f889ac-5f31-4c9e-d503-0c4a454f244a"
      },
      "execution_count": 41,
      "outputs": [
        {
          "output_type": "stream",
          "name": "stdout",
          "text": [
            "Length: 5\n",
            "Width: 10\n",
            "Area: 50.00\n",
            "Length: 7\n",
            "Width: 3\n",
            "Area: 21.00\n",
            "Length and width must be positive values!\n"
          ]
        }
      ]
    },
    {
      "cell_type": "code",
      "source": [
        "# 14. Create a class Employee with a method calculate_salary() that computes the salary based on hours worked and hourly rate. Create a derived class Manager that adds a bonus to the salary.\n",
        "# Base class\n",
        "class Employee:\n",
        "    def __init__(self, name, hours_worked, hourly_rate):\n",
        "        self.name = name\n",
        "        self.hours_worked = hours_worked\n",
        "        self.hourly_rate = hourly_rate\n",
        "\n",
        "    # Method to calculate salary\n",
        "    def calculate_salary(self):\n",
        "        return self.hours_worked * self.hourly_rate\n",
        "\n",
        "    # Method to display employee details\n",
        "    def display_info(self):\n",
        "        print(f\"Employee Name: {self.name}\")\n",
        "        print(f\"Base Salary: ₹{self.calculate_salary():.2f}\")\n",
        "\n",
        "# Derived class Manager\n",
        "class Manager(Employee):\n",
        "    def __init__(self, name, hours_worked, hourly_rate, bonus):\n",
        "        super().__init__(name, hours_worked, hourly_rate)\n",
        "        self.bonus = bonus\n",
        "\n",
        "    # Override calculate_salary to add bonus\n",
        "    def calculate_salary(self):\n",
        "        base_salary = super().calculate_salary()\n",
        "        return base_salary + self.bonus\n",
        "\n",
        "    # Display manager details including bonus\n",
        "    def display_info(self):\n",
        "        print(f\"Manager Name: {self.name}\")\n",
        "        print(f\"Base Salary: ₹{super().calculate_salary():.2f}\")\n",
        "        print(f\"Bonus: ₹{self.bonus:.2f}\")\n",
        "        print(f\"Total Salary: ₹{self.calculate_salary():.2f}\")\n",
        "\n",
        "# Create Employee object\n",
        "emp = Employee(\"John\", 40, 500)\n",
        "emp.display_info()\n",
        "\n",
        "print(\"\\n\")\n",
        "\n",
        "# Create Manager object\n",
        "mgr = Manager(\"Alice\", 45, 600, 5000)\n",
        "mgr.display_info()\n"
      ],
      "metadata": {
        "colab": {
          "base_uri": "https://localhost:8080/"
        },
        "id": "G_ewUVfxAVmd",
        "outputId": "563f2ef4-57a1-49da-8813-b8ffa4645b46"
      },
      "execution_count": 42,
      "outputs": [
        {
          "output_type": "stream",
          "name": "stdout",
          "text": [
            "Employee Name: John\n",
            "Base Salary: ₹20000.00\n",
            "\n",
            "\n",
            "Manager Name: Alice\n",
            "Base Salary: ₹27000.00\n",
            "Bonus: ₹5000.00\n",
            "Total Salary: ₹32000.00\n"
          ]
        }
      ]
    },
    {
      "cell_type": "code",
      "source": [
        "# 15. Create a class Product with attributes name, price, and quantity. Implement a method total_price() that calculates the total price of the product.\n",
        "class Product:\n",
        "    def __init__(self, name, price, quantity):\n",
        "        self.name = name\n",
        "        self.price = price\n",
        "        self.quantity = quantity\n",
        "\n",
        "    def total_price(self):\n",
        "        return self.price * self.quantity\n",
        "\n",
        "\n",
        "# Creating an instance of Product\n",
        "product1 = Product(\"Laptop\", 50000, 2)\n",
        "\n",
        "# Calculating and printing the total price\n",
        "print(f\"Total price of {product1.name}: ₹{product1.total_price()}\")\n"
      ],
      "metadata": {
        "colab": {
          "base_uri": "https://localhost:8080/"
        },
        "id": "OexNE69UAtr_",
        "outputId": "58b169a5-746d-42b7-be7f-bc9f584b8e4d"
      },
      "execution_count": 43,
      "outputs": [
        {
          "output_type": "stream",
          "name": "stdout",
          "text": [
            "Total price of Laptop: ₹100000\n"
          ]
        }
      ]
    },
    {
      "cell_type": "code",
      "source": [
        "# 16. Create a class Animal with an abstract method sound(). Create two derived classes Cow and Sheep that implement the sound() method.\n",
        "\n",
        "from abc import ABC, abstractmethod\n",
        "\n",
        "# Abstract base class\n",
        "class Animal(ABC):\n",
        "    @abstractmethod\n",
        "    def sound(self):\n",
        "        pass\n",
        "\n",
        "\n",
        "# Derived class Cow\n",
        "class Cow(Animal):\n",
        "    def sound(self):\n",
        "        return \"Moo\"\n",
        "\n",
        "\n",
        "# Derived class Sheep\n",
        "class Sheep(Animal):\n",
        "    def sound(self):\n",
        "        return \"Baa\"\n",
        "\n",
        "\n",
        "# Creating instances\n",
        "cow = Cow()\n",
        "sheep = Sheep()\n",
        "\n",
        "# Calling the sound() method\n",
        "print(f\"Cow makes sound: {cow.sound()}\")\n",
        "print(f\"Sheep makes sound: {sheep.sound()}\")\n",
        "\n",
        "\n"
      ],
      "metadata": {
        "colab": {
          "base_uri": "https://localhost:8080/"
        },
        "id": "Oes61SrDB33W",
        "outputId": "b9a5cd60-d176-4697-a176-1b553539b705"
      },
      "execution_count": 45,
      "outputs": [
        {
          "output_type": "stream",
          "name": "stdout",
          "text": [
            "Cow makes sound: Moo\n",
            "Sheep makes sound: Baa\n"
          ]
        }
      ]
    },
    {
      "cell_type": "code",
      "source": [
        "# 17. Create a class Book with attributes title, author, and year_published. Add a method get_book_info() that returns a formatted string with the book's details.\n",
        "class Book:\n",
        "    def __init__ (self, title, author, year_published):\n",
        "        self.title = title\n",
        "        self.author = author\n",
        "        self.year_published = year_published\n",
        "\n",
        "    def get_book_info(self):\n",
        "        return f\"Title: {self.title}\\nAuthor: {self.author}\\nYear Published: {self.year_published}\"\n",
        "\n",
        "book1 = Book(\"History of medieval India\", \"Satish Chandra\",1940)\n",
        "print(book1.get_book_info())\n",
        "\n",
        "\n",
        "\n",
        "\n"
      ],
      "metadata": {
        "colab": {
          "base_uri": "https://localhost:8080/"
        },
        "id": "Ot_ys2TZCQqZ",
        "outputId": "ec835e74-1a5a-4097-ee63-c0567b5d4d85"
      },
      "execution_count": 49,
      "outputs": [
        {
          "output_type": "stream",
          "name": "stdout",
          "text": [
            "Title: History of medieval India\n",
            "Author: Satish Chandra\n",
            "Year Published: 1940\n"
          ]
        }
      ]
    },
    {
      "cell_type": "code",
      "source": [
        "# Base class\n",
        "class House:\n",
        "    def __init__(self, address, price):\n",
        "        self.address = address\n",
        "        self.price = price\n",
        "\n",
        "    def get_house_info(self):\n",
        "        return f\"Address: {self.address}, Price: ₹{self.price}\"\n",
        "\n",
        "\n",
        "# Derived class\n",
        "class Mansion(House):\n",
        "    def __init__(self, address, price, number_of_rooms):\n",
        "        super().__init__(address, price)\n",
        "        self.number_of_rooms = number_of_rooms\n",
        "\n",
        "    def get_mansion_info(self):\n",
        "        house_info = super().get_house_info()\n",
        "        return f\"{house_info}, Number of Rooms: {self.number_of_rooms}\"\n",
        "\n",
        "\n",
        "# Creating an instance of Mansion\n",
        "mansion1 = Mansion(\"123 Luxury Lane, Mumbai\", 50000000, 10)\n",
        "\n",
        "# Getting and printing the mansion information\n",
        "print(mansion1.get_mansion_info())\n",
        "\n"
      ],
      "metadata": {
        "colab": {
          "base_uri": "https://localhost:8080/"
        },
        "id": "VD3Uaex0Dztq",
        "outputId": "72af3662-f297-4e2b-dec5-25dce05fdb0b"
      },
      "execution_count": 50,
      "outputs": [
        {
          "output_type": "stream",
          "name": "stdout",
          "text": [
            "Address: 123 Luxury Lane, Mumbai, Price: ₹50000000, Number of Rooms: 10\n"
          ]
        }
      ]
    },
    {
      "cell_type": "code",
      "source": [],
      "metadata": {
        "id": "AqZ04vYKE2VO"
      },
      "execution_count": null,
      "outputs": []
    }
  ]
}